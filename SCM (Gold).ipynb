{
 "cells": [
  {
   "cell_type": "code",
   "execution_count": 0,
   "metadata": {
    "application/vnd.databricks.v1+cell": {
     "cellMetadata": {
      "byteLimit": 2048000,
      "rowLimit": 10000
     },
     "inputWidgets": {},
     "nuid": "33be3916-df14-42f2-8cd5-95727e722483",
     "showTitle": false,
     "tableResultSettingsMap": {},
     "title": ""
    }
   },
   "outputs": [],
   "source": [
    "from pyspark.sql.functions import *\n",
    "from pyspark.sql.types import *\n",
    "from pyspark.sql.window import Window"
   ]
  },
  {
   "cell_type": "code",
   "execution_count": 0,
   "metadata": {
    "application/vnd.databricks.v1+cell": {
     "cellMetadata": {
      "byteLimit": 2048000,
      "implicitDf": true,
      "rowLimit": 10000
     },
     "inputWidgets": {},
     "nuid": "7391269a-9578-490c-9d1a-f148b6042ad1",
     "showTitle": false,
     "tableResultSettingsMap": {},
     "title": ""
    }
   },
   "outputs": [],
   "source": [
    "%sql\n",
    "drop catalog if exists goldscm cascade;\n",
    "create catalog goldscm;"
   ]
  },
  {
   "cell_type": "code",
   "execution_count": 0,
   "metadata": {
    "application/vnd.databricks.v1+cell": {
     "cellMetadata": {
      "byteLimit": 2048000,
      "implicitDf": true,
      "rowLimit": 10000
     },
     "inputWidgets": {},
     "nuid": "e3c62a7e-5fb2-409f-91c8-3f2a6a4ecb78",
     "showTitle": false,
     "tableResultSettingsMap": {},
     "title": ""
    }
   },
   "outputs": [],
   "source": [
    "%sql\n",
    "USE catalog goldscm;"
   ]
  },
  {
   "cell_type": "code",
   "execution_count": 0,
   "metadata": {
    "application/vnd.databricks.v1+cell": {
     "cellMetadata": {
      "byteLimit": 2048000,
      "implicitDf": true,
      "rowLimit": 10000
     },
     "inputWidgets": {},
     "nuid": "09e60e0f-aeb6-4e87-9d2e-41d06c3c0446",
     "showTitle": false,
     "tableResultSettingsMap": {},
     "title": ""
    }
   },
   "outputs": [],
   "source": [
    "%sql\n",
    "CREATE SCHEMA IF NOT EXISTS goldscm.gold_schema;"
   ]
  },
  {
   "cell_type": "markdown",
   "metadata": {
    "application/vnd.databricks.v1+cell": {
     "cellMetadata": {
      "byteLimit": 2048000,
      "rowLimit": 10000
     },
     "inputWidgets": {},
     "nuid": "f6250c1b-5996-4a4e-8bd4-748021df05b8",
     "showTitle": false,
     "tableResultSettingsMap": {},
     "title": ""
    }
   },
   "source": [
    "**LOAD THE SILVER DATA**"
   ]
  },
  {
   "cell_type": "code",
   "execution_count": 0,
   "metadata": {
    "application/vnd.databricks.v1+cell": {
     "cellMetadata": {
      "byteLimit": 2048000,
      "rowLimit": 10000
     },
     "inputWidgets": {},
     "nuid": "81b86aed-5591-40e6-9884-2c913116c049",
     "showTitle": false,
     "tableResultSettingsMap": {},
     "title": ""
    }
   },
   "outputs": [],
   "source": [
    "%python\n",
    "# Load Customer Data\n",
    "df_cust = spark.read.format(\"delta\") \\\n",
    " .option(\"header\", \"true\") \\\n",
    " .option(\"inferSchema\", \"true\") \\\n",
    " .load('abfss://silver@scmdataset2025.dfs.core.windows.net/Customer')\n",
    "# Load Orders Data\n",
    "df_orders = spark.read.format(\"delta\") \\\n",
    " .option(\"header\", \"true\") \\\n",
    " .option(\"inferSchema\", \"true\") \\\n",
    " .load('abfss://silver@scmdataset2025.dfs.core.windows.net/Orders')\n",
    "# Load Warehouse Data\n",
    "df_warehouse = spark.read.format(\"delta\") \\\n",
    " .option(\"header\", \"true\") \\\n",
    " .option(\"inferSchema\", \"true\") \\\n",
    " .load('abfss://silver@scmdataset2025.dfs.core.windows.net/Warehouse')\n",
    "# Load Logistics Data\n",
    "df_logistics = spark.read.format(\"delta\") \\\n",
    " .option(\"header\", \"true\") \\\n",
    " .option(\"inferSchema\", \"true\") \\\n",
    " .load('abfss://silver@scmdataset2025.dfs.core.windows.net/Logistics')\n",
    "# Load Products Data\n",
    "df_products = spark.read.format(\"delta\") \\\n",
    " .option(\"header\", \"true\") \\\n",
    " .option(\"inferSchema\", \"true\") \\\n",
    " .load('abfss://silver@scmdataset2025.dfs.core.windows.net/Product')\n",
    "# Load Supply Data\n",
    "df_supply = spark.read.format(\"delta\") \\\n",
    " .option(\"header\", \"true\") \\\n",
    " .option(\"inferSchema\", \"true\") \\\n",
    " .load('abfss://silver@scmdataset2025.dfs.core.windows.net/Supply')"
   ]
  },
  {
   "cell_type": "code",
   "execution_count": 0,
   "metadata": {
    "application/vnd.databricks.v1+cell": {
     "cellMetadata": {
      "byteLimit": 2048000,
      "rowLimit": 10000
     },
     "inputWidgets": {},
     "nuid": "cf40d33e-9103-4215-9461-955acaf590f7",
     "showTitle": false,
     "tableResultSettingsMap": {},
     "title": ""
    }
   },
   "outputs": [],
   "source": [
    "df_orders.display(5)"
   ]
  },
  {
   "cell_type": "markdown",
   "metadata": {
    "application/vnd.databricks.v1+cell": {
     "cellMetadata": {
      "byteLimit": 2048000,
      "rowLimit": 10000
     },
     "inputWidgets": {},
     "nuid": "a21cd1bb-17f5-4be1-a408-e574466bb690",
     "showTitle": false,
     "tableResultSettingsMap": {},
     "title": ""
    }
   },
   "source": [
    "**Orders vs Total Cost and Shipment Cost**"
   ]
  },
  {
   "cell_type": "code",
   "execution_count": 0,
   "metadata": {
    "application/vnd.databricks.v1+cell": {
     "cellMetadata": {
      "byteLimit": 2048000,
      "rowLimit": 10000
     },
     "inputWidgets": {},
     "nuid": "23849f1c-7afe-4ac4-8e03-c29ec8a05a2b",
     "showTitle": false,
     "tableResultSettingsMap": {},
     "title": ""
    }
   },
   "outputs": [],
   "source": [
    "print(df_orders.columns)\n",
    "print(df_logistics.columns)"
   ]
  },
  {
   "cell_type": "code",
   "execution_count": 0,
   "metadata": {
    "application/vnd.databricks.v1+cell": {
     "cellMetadata": {
      "byteLimit": 2048000,
      "rowLimit": 10000
     },
     "inputWidgets": {},
     "nuid": "03987020-aabb-4891-98ee-2c85e939feac",
     "showTitle": false,
     "tableResultSettingsMap": {},
     "title": ""
    }
   },
   "outputs": [],
   "source": [
    "%python\n",
    "# Ensure that both DataFrames have the 'Order_ID' column\n",
    "df_orders = df_orders.withColumnRenamed(\"Order_ID\", \"Order_ID\")\n",
    "df_logistics = df_logistics.withColumnRenamed(\"Order_ID\", \"Order_ID\")\n",
    "\n",
    "# Perform the join operation\n",
    "df_order_shipment_cost = df_orders.join(\n",
    "    df_logistics,\n",
    "    df_orders[\"Order_ID\"] == df_logistics[\"Order_ID\"]\n",
    ").select(\n",
    "    df_orders[\"Order_ID\"],\n",
    "    df_orders[\"Total_Cost\"],\n",
    "    df_logistics[\"Shipment_Cost\"]\n",
    ").orderBy(\"Order_ID\", ascending=True)\n",
    "\n",
    "# Display the result\n",
    "display(df_order_shipment_cost)"
   ]
  },
  {
   "cell_type": "code",
   "execution_count": 0,
   "metadata": {
    "application/vnd.databricks.v1+cell": {
     "cellMetadata": {
      "byteLimit": 2048000,
      "rowLimit": 10000
     },
     "inputWidgets": {},
     "nuid": "12021198-7f25-4319-8e6f-48bfadb15c57",
     "showTitle": false,
     "tableResultSettingsMap": {},
     "title": ""
    }
   },
   "outputs": [],
   "source": [
    "df_order_shipment_cost = df_orders.join(df_logistics, \"Order_ID\") \\\n",
    " .select(\"Order_ID\", \"Total_Cost\", \"Shipment_Cost\") \\\n",
    " .orderBy(\"Order_ID\", ascending=True)\n",
    "df_order_shipment_cost.display()"
   ]
  },
  {
   "cell_type": "markdown",
   "metadata": {
    "application/vnd.databricks.v1+cell": {
     "cellMetadata": {
      "byteLimit": 2048000,
      "rowLimit": 10000
     },
     "inputWidgets": {},
     "nuid": "36ba818a-e1f1-4658-925e-2fa2d81ef81e",
     "showTitle": false,
     "tableResultSettingsMap": {},
     "title": ""
    }
   },
   "source": [
    "**Order_Date Vs Shipment_Date Vs Delivery_Date**"
   ]
  },
  {
   "cell_type": "code",
   "execution_count": 0,
   "metadata": {
    "application/vnd.databricks.v1+cell": {
     "cellMetadata": {
      "byteLimit": 2048000,
      "rowLimit": 10000
     },
     "inputWidgets": {},
     "nuid": "071b18f8-fa0a-4e98-914c-60f2af066690",
     "showTitle": false,
     "tableResultSettingsMap": {},
     "title": ""
    }
   },
   "outputs": [],
   "source": [
    "df_orders_delivery_info = df_orders.join(df_logistics, \"Order_ID\") \\\n",
    " .select(df_orders.Order_ID, df_orders.Order_Date,\n",
    "df_logistics.Shipment_Date, df_logistics.Delivery_Date) \\\n",
    " .orderBy(\"Order_ID\")\n",
    "df_orders_delivery_info.display()"
   ]
  },
  {
   "cell_type": "markdown",
   "metadata": {
    "application/vnd.databricks.v1+cell": {
     "cellMetadata": {
      "byteLimit": 2048000,
      "rowLimit": 10000
     },
     "inputWidgets": {},
     "nuid": "03f1bc99-c0f2-4cc6-8224-14584ee17056",
     "showTitle": false,
     "tableResultSettingsMap": {},
     "title": ""
    }
   },
   "source": [
    "**Total Orders Revenue Over Time**"
   ]
  },
  {
   "cell_type": "code",
   "execution_count": 0,
   "metadata": {
    "application/vnd.databricks.v1+cell": {
     "cellMetadata": {
      "byteLimit": 2048000,
      "rowLimit": 10000
     },
     "inputWidgets": {},
     "nuid": "8f785e06-5359-455c-acfb-e34f6758ad77",
     "showTitle": false,
     "tableResultSettingsMap": {},
     "title": ""
    }
   },
   "outputs": [],
   "source": [
    "orders_summary = df_orders.groupBy(\"Order_Date\") \\\n",
    " .agg(sum(\"Total_Cost\").alias(\"Total_Revenue\")) \\\n",
    " .orderBy(\"Order_Date\", ascending=True)\n",
    "display(orders_summary)"
   ]
  },
  {
   "cell_type": "markdown",
   "metadata": {
    "application/vnd.databricks.v1+cell": {
     "cellMetadata": {
      "byteLimit": 2048000,
      "rowLimit": 10000
     },
     "inputWidgets": {},
     "nuid": "15216468-0b47-4917-8f7e-aee5f09cf395",
     "showTitle": false,
     "tableResultSettingsMap": {},
     "title": ""
    }
   },
   "source": [
    "**Top-Selling Products**"
   ]
  },
  {
   "cell_type": "code",
   "execution_count": 0,
   "metadata": {
    "application/vnd.databricks.v1+cell": {
     "cellMetadata": {
      "byteLimit": 2048000,
      "rowLimit": 10000
     },
     "inputWidgets": {},
     "nuid": "90916577-dc7a-464a-a385-0342ba91d25a",
     "showTitle": false,
     "tableResultSettingsMap": {},
     "title": ""
    }
   },
   "outputs": [],
   "source": [
    "from pyspark.sql.functions import sum, col, round\n",
    "\n",
    "total_quantity = df_orders.agg(sum(\"Quantity_Ordered\").alias(\"Total_Quantity\")).collect()[0][\"Total_Quantity\"]\n",
    "top_selling_quantities = df_orders.join(df_products, \"Product_ID\") \\\n",
    " .groupBy(\"Product_ID\", \"Product_Name\") \\\n",
    " .agg(sum(\"Quantity_Ordered\").alias(\"Total_Quantity_Ordered\")) \\\n",
    " .withColumn(\"Percentage_of_Allotment\",\n",
    "round((col(\"Total_Quantity_Ordered\") / total_quantity) * 100, 2)) \\\n",
    " .orderBy(\"Total_Quantity_Ordered\", ascending=False)\n",
    "top_selling_quantities.display()"
   ]
  },
  {
   "cell_type": "markdown",
   "metadata": {
    "application/vnd.databricks.v1+cell": {
     "cellMetadata": {
      "byteLimit": 2048000,
      "rowLimit": 10000
     },
     "inputWidgets": {},
     "nuid": "2c025da6-8dab-4356-9e7f-2f111d9b7f9f",
     "showTitle": false,
     "tableResultSettingsMap": {},
     "title": ""
    }
   },
   "source": [
    "**Most Orders By Customer**"
   ]
  },
  {
   "cell_type": "code",
   "execution_count": 0,
   "metadata": {
    "application/vnd.databricks.v1+cell": {
     "cellMetadata": {
      "byteLimit": 2048000,
      "rowLimit": 10000
     },
     "inputWidgets": {},
     "nuid": "ce7d0b1d-6913-430a-ab47-cb32c536f80c",
     "showTitle": false,
     "tableResultSettingsMap": {},
     "title": ""
    }
   },
   "outputs": [],
   "source": [
    "most_orders_by_customer = df_orders.join(df_cust,\n",
    "\"Customer_ID\").groupBy(\"Customer_ID\", \"Customer_Location\").agg(\n",
    " count(\"Order_ID\").alias(\"Total_orders\")\n",
    ").orderBy(\"Total_orders\", ascending=False)\n",
    "most_orders_by_customer.display()\n"
   ]
  },
  {
   "cell_type": "markdown",
   "metadata": {
    "application/vnd.databricks.v1+cell": {
     "cellMetadata": {
      "byteLimit": 2048000,
      "rowLimit": 10000
     },
     "inputWidgets": {},
     "nuid": "f1c451d2-5bff-4d04-8d46-7f12655d2a40",
     "showTitle": false,
     "tableResultSettingsMap": {},
     "title": ""
    }
   },
   "source": [
    "**Warehouse wise Top-Orders**"
   ]
  },
  {
   "cell_type": "code",
   "execution_count": 0,
   "metadata": {
    "application/vnd.databricks.v1+cell": {
     "cellMetadata": {
      "byteLimit": 2048000,
      "rowLimit": 10000
     },
     "inputWidgets": {},
     "nuid": "648beb3a-e60b-4f79-9ab3-10fac45bf15f",
     "showTitle": false,
     "tableResultSettingsMap": {},
     "title": ""
    }
   },
   "outputs": [],
   "source": [
    "warehouse_wise_top_orders = df_orders.join(df_warehouse,\n",
    "\"Warehouse_ID\") \\\n",
    " .groupBy(\"Warehouse_ID\", \"Warehouse_Location\") \\\n",
    " .agg(count(\"Order_ID\").alias(\"Total_Orders\")) \\\n",
    " .orderBy(\"Total_Orders\", ascending=False)\n",
    "warehouse_wise_top_orders.display()"
   ]
  },
  {
   "cell_type": "markdown",
   "metadata": {
    "application/vnd.databricks.v1+cell": {
     "cellMetadata": {
      "byteLimit": 2048000,
      "rowLimit": 10000
     },
     "inputWidgets": {},
     "nuid": "c62dbccb-571d-4ce4-97be-07d723fd9a71",
     "showTitle": false,
     "tableResultSettingsMap": {},
     "title": ""
    }
   },
   "source": [
    "**Customer Location vs Order Volume**"
   ]
  },
  {
   "cell_type": "code",
   "execution_count": 0,
   "metadata": {
    "application/vnd.databricks.v1+cell": {
     "cellMetadata": {
      "byteLimit": 2048000,
      "rowLimit": 10000
     },
     "inputWidgets": {},
     "nuid": "b4432128-7b7e-42c0-a9d6-37dc2f411db7",
     "showTitle": false,
     "tableResultSettingsMap": {},
     "title": ""
    }
   },
   "outputs": [],
   "source": [
    "%python\n",
    "Cust_behavior = df_cust.join(df_orders, \"Customer_ID\") \\\n",
    "    .join(df_products, \"Product_ID\") \\\n",
    "    .groupBy(\"Customer_Location\", \"Product_Name\") \\\n",
    "    .agg(sum(\"Quantity_Ordered\").alias(\"Total_Quantity_Ordered\")) \\\n",
    "    .orderBy(\"Total_Quantity_Ordered\", ascending=False)\n",
    "\n",
    "display(Cust_behavior)"
   ]
  },
  {
   "cell_type": "markdown",
   "metadata": {
    "application/vnd.databricks.v1+cell": {
     "cellMetadata": {
      "byteLimit": 2048000,
      "rowLimit": 10000
     },
     "inputWidgets": {},
     "nuid": "125c05ff-84c4-44ab-a599-10b07316d051",
     "showTitle": false,
     "tableResultSettingsMap": {},
     "title": ""
    }
   },
   "source": [
    "**Customer Order Frequency**"
   ]
  },
  {
   "cell_type": "code",
   "execution_count": 0,
   "metadata": {
    "application/vnd.databricks.v1+cell": {
     "cellMetadata": {
      "byteLimit": 2048000,
      "rowLimit": 10000
     },
     "inputWidgets": {},
     "nuid": "53d15b3b-bd06-4b5e-af5c-15c8caa84e2a",
     "showTitle": false,
     "tableResultSettingsMap": {},
     "title": ""
    }
   },
   "outputs": [],
   "source": [
    "from pyspark.sql.functions import countDistinct\n",
    "df_customer_order_frequency = df_orders.join(df_cust,\n",
    "\"Customer_ID\").groupBy(\n",
    " \"Customer_ID\", \"Customer_Location\"\n",
    ").agg(\n",
    " countDistinct(\"Order_Date\").alias(\"Order_Frequency\")\n",
    ").orderBy( \"Order_Frequency\", ascending=False)\n",
    "\n",
    "df_customer_order_frequency.display()"
   ]
  },
  {
   "cell_type": "markdown",
   "metadata": {
    "application/vnd.databricks.v1+cell": {
     "cellMetadata": {
      "byteLimit": 2048000,
      "rowLimit": 10000
     },
     "inputWidgets": {},
     "nuid": "da59c49f-f123-43b9-8d83-4528f4f62052",
     "showTitle": false,
     "tableResultSettingsMap": {},
     "title": ""
    }
   },
   "source": [
    "**Average delivery time by Warehouse**"
   ]
  },
  {
   "cell_type": "code",
   "execution_count": 0,
   "metadata": {
    "application/vnd.databricks.v1+cell": {
     "cellMetadata": {
      "byteLimit": 2048000,
      "rowLimit": 10000
     },
     "inputWidgets": {},
     "nuid": "224fe508-dc47-4284-941b-a18d0b8be3fe",
     "showTitle": false,
     "tableResultSettingsMap": {},
     "title": ""
    }
   },
   "outputs": [],
   "source": [
    "average_delivery_time = df_logistics.withColumn(\n",
    " \"Delivery_Time\",\n",
    " datediff(col(\"Delivery_Date\"), col(\"Shipment_Date\"))\n",
    ").groupBy(\n",
    " \"From\", \"To\"\n",
    ").agg(\n",
    " round(avg(\"Delivery_Time\"), 2).alias(\"Average_Delivery_Time\")\n",
    ").orderBy(\"From\")\n",
    "average_delivery_time.display()"
   ]
  },
  {
   "cell_type": "markdown",
   "metadata": {
    "application/vnd.databricks.v1+cell": {
     "cellMetadata": {
      "byteLimit": 2048000,
      "rowLimit": 10000
     },
     "inputWidgets": {},
     "nuid": "318bd959-4f80-4b66-967f-19ba52a670c4",
     "showTitle": false,
     "tableResultSettingsMap": {},
     "title": ""
    }
   },
   "source": [
    "**Shipping Cost by Distance**"
   ]
  },
  {
   "cell_type": "code",
   "execution_count": 0,
   "metadata": {
    "application/vnd.databricks.v1+cell": {
     "cellMetadata": {
      "byteLimit": 2048000,
      "rowLimit": 10000
     },
     "inputWidgets": {},
     "nuid": "0ffc99cd-d76a-41f7-8756-f6439eaa872a",
     "showTitle": false,
     "tableResultSettingsMap": {},
     "title": ""
    }
   },
   "outputs": [],
   "source": [
    "# Define Distance Ranges\n",
    "shipping_cost_by_distance = df_logistics.withColumn(\n",
    " \"Distance_Range\",\n",
    " when(col(\"Distance\") <= 50, \"0-50 km\")\n",
    " .when((col(\"Distance\") > 50) & (col(\"Distance\") <= 100), \"51-100km\")\n",
    " .when((col(\"Distance\") > 100) & (col(\"Distance\") <= 200), \"101-200km\")\n",
    " .when((col(\"Distance\") > 200) & (col(\"Distance\") <= 500), \"201-500km\")\n",
    " .otherwise(\"500+ km\")).groupBy(\"Distance_Range\") \\\n",
    " .agg(sum(\"Shipment_Cost\").alias(\"Total_Shipping_Cost\")) \\\n",
    " .orderBy(\"Distance_Range\")\n",
    "shipping_cost_by_distance.display()"
   ]
  },
  {
   "cell_type": "markdown",
   "metadata": {
    "application/vnd.databricks.v1+cell": {
     "cellMetadata": {
      "byteLimit": 2048000,
      "rowLimit": 10000
     },
     "inputWidgets": {},
     "nuid": "066e738e-80d7-454b-9011-b842b342826c",
     "showTitle": false,
     "tableResultSettingsMap": {},
     "title": ""
    }
   },
   "source": [
    "**Supplier Wise Product Distribution**\n"
   ]
  },
  {
   "cell_type": "code",
   "execution_count": 0,
   "metadata": {
    "application/vnd.databricks.v1+cell": {
     "cellMetadata": {
      "byteLimit": 2048000,
      "rowLimit": 10000
     },
     "inputWidgets": {},
     "nuid": "a80e42e5-79f2-411c-bfed-e0c47c5b598f",
     "showTitle": false,
     "tableResultSettingsMap": {},
     "title": ""
    }
   },
   "outputs": [],
   "source": [
    "df_supply_wise_pro=df_supply.join(df_products,\"Product_ID\")\\\n",
    " .groupBy(\"Supplier_ID\",\"Product_Name\")\\\n",
    " .agg(sum(\"Manufacturing_Unit\").alias(\"Total_Manufacturing_Units\"))\\\n",
    " .orderBy(\"Supplier_ID\",ascending=True)\n",
    "df_supply_wise_pro.display()"
   ]
  },
  {
   "cell_type": "markdown",
   "metadata": {
    "application/vnd.databricks.v1+cell": {
     "cellMetadata": {
      "byteLimit": 2048000,
      "rowLimit": 10000
     },
     "inputWidgets": {},
     "nuid": "8b6f27d3-7658-413d-aa9f-1444df6552af",
     "showTitle": false,
     "tableResultSettingsMap": {},
     "title": ""
    }
   },
   "source": [
    "**Manufacturing units by Location**"
   ]
  },
  {
   "cell_type": "code",
   "execution_count": 0,
   "metadata": {
    "application/vnd.databricks.v1+cell": {
     "cellMetadata": {
      "byteLimit": 2048000,
      "rowLimit": 10000
     },
     "inputWidgets": {},
     "nuid": "c7e117eb-8855-4821-b3e0-07211fb28cdb",
     "showTitle": false,
     "tableResultSettingsMap": {},
     "title": ""
    }
   },
   "outputs": [],
   "source": [
    "df_manufacturing_unit=df_supply.groupBy(\"Supplier_City\")\\\n",
    " .agg(sum(\"Manufacturing_Unit\").alias(\"Total_Manufacturing_Units\"))\\\n",
    " .orderBy(\"Total_Manufacturing_Units\",ascending=False)\n",
    "df_manufacturing_unit.display()"
   ]
  },
  {
   "cell_type": "code",
   "execution_count": 0,
   "metadata": {
    "application/vnd.databricks.v1+cell": {
     "cellMetadata": {
      "byteLimit": 2048000,
      "rowLimit": 10000
     },
     "inputWidgets": {},
     "nuid": "81664a6e-27a4-4e86-b508-6e11d4ec29e3",
     "showTitle": false,
     "tableResultSettingsMap": {},
     "title": ""
    }
   },
   "outputs": [],
   "source": [
    "df_logistics=df_logistics.withColumnRenamed(\"From\",\"Warehouse_Location\")\n",
    "df_logistics=df_logistics.withColumnRenamed(\"To\",\"Customer_Location\")\n",
    "df_orders=df_orders.withColumnRenamed(\"Total_Cost\",\"Order_Cost\")\n"
   ]
  },
  {
   "cell_type": "code",
   "execution_count": 0,
   "metadata": {
    "application/vnd.databricks.v1+cell": {
     "cellMetadata": {
      "byteLimit": 2048000,
      "rowLimit": 10000
     },
     "inputWidgets": {},
     "nuid": "858936c1-c8fa-4d16-9907-5bc32da9796f",
     "showTitle": false,
     "tableResultSettingsMap": {},
     "title": ""
    }
   },
   "outputs": [],
   "source": [
    "f_joinedtable = df_logistics.join(df_orders, \"Order_id\", \"inner\") \\\n",
    " .join(df_cust, \"Customer_ID\", \"inner\") \\\n",
    " .join(df_products, \"Product_ID\", \"inner\")\\\n",
    " .select(df_orders.Order_ID,\n",
    " df_products.Product_ID,\n",
    " df_cust.Customer_ID,\n",
    " df_orders.Warehouse_ID,\n",
    " df_products.Product_Name,\n",
    " df_products.Category,\n",
    " df_orders.Quantity_Ordered,\n",
    " df_logistics.Warehouse_Location,\n",
    " df_cust.Customer_Location,\n",
    " df_logistics.Distance,\n",
    " df_orders.Order_Cost,\n",
    " df_logistics.Shipment_Cost,\n",
    " df_logistics.Order_Date,\n",
    " df_logistics.Shipment_Date,\n",
    " df_logistics.Delivery_Date\n",
    " ).distinct().orderBy(df_orders.Order_ID)\n",
    "f_joinedtable.display()"
   ]
  },
  {
   "cell_type": "code",
   "execution_count": 0,
   "metadata": {
    "application/vnd.databricks.v1+cell": {
     "cellMetadata": {
      "byteLimit": 2048000,
      "rowLimit": 10000
     },
     "inputWidgets": {},
     "nuid": "ca42591f-d4e4-40be-9da3-9203a6fcf023",
     "showTitle": false,
     "tableResultSettingsMap": {},
     "title": ""
    }
   },
   "outputs": [],
   "source": [
    "f_joinedtable.display()"
   ]
  },
  {
   "cell_type": "code",
   "execution_count": 0,
   "metadata": {
    "application/vnd.databricks.v1+cell": {
     "cellMetadata": {
      "byteLimit": 2048000,
      "rowLimit": 10000
     },
     "inputWidgets": {},
     "nuid": "3792b43f-6ed9-4d62-a5ac-7247f739f37a",
     "showTitle": false,
     "tableResultSettingsMap": {},
     "title": ""
    }
   },
   "outputs": [],
   "source": [
    "f_joinedtable.write\\\n",
    "    .format(\"delta\")\\\n",
    "    .mode(\"overwrite\")\\\n",
    "    .option(\"inferSchema\", \"true\")\\\n",
    "    .saveAsTable(\"goldscm.gold_schema.f_joined_table\")"
   ]
  },
  {
   "cell_type": "code",
   "execution_count": 0,
   "metadata": {
    "application/vnd.databricks.v1+cell": {
     "cellMetadata": {
      "byteLimit": 2048000,
      "rowLimit": 10000
     },
     "inputWidgets": {},
     "nuid": "b383902d-f26c-40b1-b2ef-a60298b10e24",
     "showTitle": false,
     "tableResultSettingsMap": {},
     "title": ""
    }
   },
   "outputs": [],
   "source": [
    "f_joinedtable.write.format(\"delta\")\\\n",
    "    .mode(\"overwrite\")\\\n",
    "    .option(\"inferSchema\", \"true\")\\\n",
    "    .save(\"abfss://gold@scmdataset2025.dfs.core.windows.net/f_joined_table\")"
   ]
  },
  {
   "cell_type": "code",
   "execution_count": 0,
   "metadata": {
    "application/vnd.databricks.v1+cell": {
     "cellMetadata": {
      "byteLimit": 2048000,
      "rowLimit": 10000
     },
     "inputWidgets": {},
     "nuid": "e1c360ea-e920-4dbe-9f93-182944e33329",
     "showTitle": false,
     "tableResultSettingsMap": {},
     "title": ""
    }
   },
   "outputs": [],
   "source": [
    "df_warehouse.write\\\n",
    "    .format(\"delta\")\\\n",
    "    .mode(\"overwrite\")\\\n",
    "    .option(\"inferSchema\", \"true\")\\\n",
    "    .saveAsTable(\"goldscm.gold_schema.Warehouse_table\")"
   ]
  },
  {
   "cell_type": "code",
   "execution_count": 0,
   "metadata": {
    "application/vnd.databricks.v1+cell": {
     "cellMetadata": {
      "byteLimit": 2048000,
      "rowLimit": 10000
     },
     "inputWidgets": {},
     "nuid": "02cd4839-eb14-4ae2-8889-018fca240ee5",
     "showTitle": false,
     "tableResultSettingsMap": {},
     "title": ""
    }
   },
   "outputs": [],
   "source": [
    "df_warehouse.write.format(\"delta\")\\\n",
    "    .mode(\"overwrite\")\\\n",
    "    .option(\"inferSchema\", \"true\")\\\n",
    "    .save(\"abfss://gold@scmdataset2025.dfs.core.windows.net/df_warehouse\")"
   ]
  },
  {
   "cell_type": "code",
   "execution_count": 0,
   "metadata": {
    "application/vnd.databricks.v1+cell": {
     "cellMetadata": {
      "byteLimit": 2048000,
      "rowLimit": 10000
     },
     "inputWidgets": {},
     "nuid": "6c96b9b1-2367-4c9a-907b-9698012fac3a",
     "showTitle": false,
     "tableResultSettingsMap": {},
     "title": ""
    }
   },
   "outputs": [],
   "source": [
    "df_supply.write \\\n",
    "    .format(\"delta\") \\\n",
    "    .mode(\"overwrite\") \\\n",
    "    .option(\"inferSchema\", \"true\") \\\n",
    "    .saveAsTable(\"goldscm.gold_schema.Supplier_table\")"
   ]
  },
  {
   "cell_type": "code",
   "execution_count": 0,
   "metadata": {
    "application/vnd.databricks.v1+cell": {
     "cellMetadata": {
      "byteLimit": 2048000,
      "rowLimit": 10000
     },
     "inputWidgets": {},
     "nuid": "8fae8b66-8a56-4271-bda9-d4aea31558a0",
     "showTitle": false,
     "tableResultSettingsMap": {},
     "title": ""
    }
   },
   "outputs": [],
   "source": [
    "df_supply.write.format(\"delta\")\\\n",
    "    .mode(\"overwrite\")\\\n",
    "    .option(\"inferSchema\", \"true\")\\\n",
    "    .save(\"abfss://gold@scmdataset2025.dfs.core.windows.net/Supplier_table\")"
   ]
  },
  {
   "cell_type": "code",
   "execution_count": 0,
   "metadata": {
    "application/vnd.databricks.v1+cell": {
     "cellMetadata": {
      "byteLimit": 2048000,
      "rowLimit": 10000
     },
     "inputWidgets": {},
     "nuid": "18504d02-056b-474b-aca7-97d8e063c8f6",
     "showTitle": false,
     "tableResultSettingsMap": {},
     "title": ""
    }
   },
   "outputs": [],
   "source": []
  }
 ],
 "metadata": {
  "application/vnd.databricks.v1+notebook": {
   "computePreferences": null,
   "dashboards": [],
   "environmentMetadata": {
    "base_environment": "",
    "environment_version": "2"
   },
   "language": "python",
   "notebookMetadata": {
    "mostRecentlyExecutedCommandWithImplicitDF": {
     "commandId": 7017595760649739,
     "dataframes": [
      "_sqldf"
     ]
    },
    "pythonIndentUnit": 4
   },
   "notebookName": "SCM (Gold)",
   "widgets": {}
  },
  "language_info": {
   "name": "python"
  }
 },
 "nbformat": 4,
 "nbformat_minor": 0
}

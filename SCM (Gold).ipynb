{
 "cells": [
  {
   "cell_type": "code",
   "execution_count": 0,
   "metadata": {
    "application/vnd.databricks.v1+cell": {
     "cellMetadata": {
      "byteLimit": 2048000,
      "rowLimit": 10000
     },
     "inputWidgets": {},
     "nuid": "33be3916-df14-42f2-8cd5-95727e722483",
     "showTitle": false,
     "tableResultSettingsMap": {},
     "title": ""
    }
   },
   "outputs": [],
   "source": [
    "from pyspark.sql.functions import *\n",
    "from pyspark.sql.types import *\n",
    "from pyspark.sql.window import Window"
   ]
  },
  {
   "cell_type": "code",
   "execution_count": 0,
   "metadata": {
    "application/vnd.databricks.v1+cell": {
     "cellMetadata": {
      "byteLimit": 2048000,
      "implicitDf": true,
      "rowLimit": 10000
     },
     "inputWidgets": {},
     "nuid": "7391269a-9578-490c-9d1a-f148b6042ad1",
     "showTitle": false,
     "tableResultSettingsMap": {},
     "title": ""
    }
   },
   "outputs": [],
   "source": [
    "%sql\n",
    "drop catalog if exists goldscm cascade;\n",
    "create catalog goldscm;"
   ]
  },
  {
   "cell_type": "code",
   "execution_count": 0,
   "metadata": {
    "application/vnd.databricks.v1+cell": {
     "cellMetadata": {
      "byteLimit": 2048000,
      "implicitDf": true,
      "rowLimit": 10000
     },
     "inputWidgets": {},
     "nuid": "e3c62a7e-5fb2-409f-91c8-3f2a6a4ecb78",
     "showTitle": false,
     "tableResultSettingsMap": {},
     "title": ""
    }
   },
   "outputs": [],
   "source": [
    "%sql\n",
    "USE catalog goldscm;"
   ]
  },
  {
   "cell_type": "code",
   "execution_count": 0,
   "metadata": {
    "application/vnd.databricks.v1+cell": {
     "cellMetadata": {
      "byteLimit": 2048000,
      "implicitDf": true,
      "rowLimit": 10000
     },
     "inputWidgets": {},
     "nuid": "09e60e0f-aeb6-4e87-9d2e-41d06c3c0446",
     "showTitle": false,
     "tableResultSettingsMap": {},
     "title": ""
    }
   },
   "outputs": [],
   "source": [
    "%sql\n",
    "CREATE SCHEMA IF NOT EXISTS goldscm.gold_schema;"
   ]
  },
  {
   "cell_type": "markdown",
   "metadata": {
    "application/vnd.databricks.v1+cell": {
     "cellMetadata": {
      "byteLimit": 2048000,
      "rowLimit": 10000
     },
     "inputWidgets": {},
     "nuid": "f6250c1b-5996-4a4e-8bd4-748021df05b8",
     "showTitle": false,
     "tableResultSettingsMap": {},
     "title": ""
    }
   },
   "source": [
    "**LOAD THE SILVER DATA**"
   ]
  },
  {
   "cell_type": "code",
   "execution_count": 0,
   "metadata": {
    "application/vnd.databricks.v1+cell": {
     "cellMetadata": {
      "byteLimit": 2048000,
      "rowLimit": 10000
     },
     "inputWidgets": {},
     "nuid": "81b86aed-5591-40e6-9884-2c913116c049",
     "showTitle": false,
     "tableResultSettingsMap": {},
     "title": ""
    }
   },
   "outputs": [],
   "source": [
    "%python\n",
    "# Load Customer Data\n",
    "df_cust = spark.read.format(\"delta\") \\\n",
    " .option(\"header\", \"true\") \\\n",
    " .option(\"inferSchema\", \"true\") \\\n",
    " .load('abfss://silver@scmdataset2025.dfs.core.windows.net/Customer')\n",
    "# Load Orders Data\n",
    "df_orders = spark.read.format(\"delta\") \\\n",
    " .option(\"header\", \"true\") \\\n",
    " .option(\"inferSchema\", \"true\") \\\n",
    " .load('abfss://silver@scmdataset2025.dfs.core.windows.net/orders')\n",
    "# Load Warehouse Data\n",
    "df_warehouse = spark.read.format(\"delta\") \\\n",
    " .option(\"header\", \"true\") \\\n",
    " .option(\"inferSchema\", \"true\") \\\n",
    " .load('abfss://silver@scmdataset2025.dfs.core.windows.net/Warehouse')\n",
    "# Load Logistics Data\n",
    "df_logistics = spark.read.format(\"delta\") \\\n",
    " .option(\"header\", \"true\") \\\n",
    " .option(\"inferSchema\", \"true\") \\\n",
    " .load('abfss://silver@scmdataset2025.dfs.core.windows.net/Logistics')\n",
    "# Load Products Data\n",
    "df_products = spark.read.format(\"delta\") \\\n",
    " .option(\"header\", \"true\") \\\n",
    " .option(\"inferSchema\", \"true\") \\\n",
    " .load('abfss://silver@scmdataset2025.dfs.core.windows.net/Product')\n",
    "# Load Supply Data\n",
    "df_supply = spark.read.format(\"delta\") \\\n",
    " .option(\"header\", \"true\") \\\n",
    " .option(\"inferSchema\", \"true\") \\\n",
    " .load('abfss://silver@scmdataset2025.dfs.core.windows.net/Supply')"
   ]
  },
  {
   "cell_type": "markdown",
   "metadata": {
    "application/vnd.databricks.v1+cell": {
     "cellMetadata": {
      "byteLimit": 2048000,
      "rowLimit": 10000
     },
     "inputWidgets": {},
     "nuid": "a21cd1bb-17f5-4be1-a408-e574466bb690",
     "showTitle": false,
     "tableResultSettingsMap": {},
     "title": ""
    }
   },
   "source": [
    "**Orders vs Total Cost and Shipment Cost**"
   ]
  },
  {
   "cell_type": "code",
   "execution_count": 0,
   "metadata": {
    "application/vnd.databricks.v1+cell": {
     "cellMetadata": {
      "byteLimit": 2048000,
      "rowLimit": 10000
     },
     "inputWidgets": {},
     "nuid": "12021198-7f25-4319-8e6f-48bfadb15c57",
     "showTitle": false,
     "tableResultSettingsMap": {},
     "title": ""
    }
   },
   "outputs": [],
   "source": [
    "df_order_shipment_cost = df_orders.join(df_logistics, \"Order_ID\") \\\n",
    " .select(\"Order_ID\", \"Total_Cost\", \"Shipment_Cost\") \\\n",
    " .orderBy(\"Order_ID\", ascending=True)\n",
    "df_order_shipment_cost.display()"
   ]
  },
  {
   "cell_type": "markdown",
   "metadata": {
    "application/vnd.databricks.v1+cell": {
     "cellMetadata": {
      "byteLimit": 2048000,
      "rowLimit": 10000
     },
     "inputWidgets": {},
     "nuid": "36ba818a-e1f1-4658-925e-2fa2d81ef81e",
     "showTitle": false,
     "tableResultSettingsMap": {},
     "title": ""
    }
   },
   "source": [
    "**Order_Date Vs Shipment_Date Vs Delivery_Date**"
   ]
  },
  {
   "cell_type": "code",
   "execution_count": 0,
   "metadata": {
    "application/vnd.databricks.v1+cell": {
     "cellMetadata": {
      "byteLimit": 2048000,
      "rowLimit": 10000
     },
     "inputWidgets": {},
     "nuid": "071b18f8-fa0a-4e98-914c-60f2af066690",
     "showTitle": false,
     "tableResultSettingsMap": {},
     "title": ""
    }
   },
   "outputs": [],
   "source": [
    "df_orders_delivery_info = df_orders.join(df_logistics, \"Order_ID\") \\\n",
    " .select(df_orders.Order_ID, df_orders.Order_Date,\n",
    "df_logistics.Shipment_Date, df_logistics.Delivery_Date) \\\n",
    " .orderBy(\"Order_ID\")\n",
    "df_orders_delivery_info.display()"
   ]
  },
  {
   "cell_type": "markdown",
   "metadata": {
    "application/vnd.databricks.v1+cell": {
     "cellMetadata": {
      "byteLimit": 2048000,
      "rowLimit": 10000
     },
     "inputWidgets": {},
     "nuid": "03f1bc99-c0f2-4cc6-8224-14584ee17056",
     "showTitle": false,
     "tableResultSettingsMap": {},
     "title": ""
    }
   },
   "source": [
    "**Total Orders Revenue Over Time**"
   ]
  },
  {
   "cell_type": "code",
   "execution_count": 0,
   "metadata": {
    "application/vnd.databricks.v1+cell": {
     "cellMetadata": {
      "byteLimit": 2048000,
      "rowLimit": 10000
     },
     "inputWidgets": {},
     "nuid": "8f785e06-5359-455c-acfb-e34f6758ad77",
     "showTitle": false,
     "tableResultSettingsMap": {},
     "title": ""
    }
   },
   "outputs": [],
   "source": [
    "orders_summary = df_orders.groupBy(\"Order_Date\") \\\n",
    " .agg(sum(\"Total_Cost\").alias(\"Total_Revenue\")) \\\n",
    " .orderBy(\"Order_Date\", ascending=True)\n",
    "display(orders_summary)"
   ]
  },
  {
   "cell_type": "markdown",
   "metadata": {
    "application/vnd.databricks.v1+cell": {
     "cellMetadata": {
      "byteLimit": 2048000,
      "rowLimit": 10000
     },
     "inputWidgets": {},
     "nuid": "15216468-0b47-4917-8f7e-aee5f09cf395",
     "showTitle": false,
     "tableResultSettingsMap": {},
     "title": ""
    }
   },
   "source": [
    "**Top-Selling Products**"
   ]
  },
  {
   "cell_type": "code",
   "execution_count": 0,
   "metadata": {
    "application/vnd.databricks.v1+cell": {
     "cellMetadata": {
      "byteLimit": 2048000,
      "rowLimit": 10000
     },
     "inputWidgets": {},
     "nuid": "90916577-dc7a-464a-a385-0342ba91d25a",
     "showTitle": false,
     "tableResultSettingsMap": {},
     "title": ""
    }
   },
   "outputs": [],
   "source": [
    "from pyspark.sql.functions import sum, col, round\n",
    "\n",
    "total_quantity = df_orders.agg(sum(\"Quantity_Ordered\").alias(\"Total_Quantity\")).collect()[0][\"Total_Quantity\"]\n",
    "top_selling_quantities = df_orders.join(df_products, \"Product_ID\") \\\n",
    " .groupBy(\"Product_ID\", \"Product_Name\") \\\n",
    " .agg(sum(\"Quantity_Ordered\").alias(\"Total_Quantity_Ordered\")) \\\n",
    " .withColumn(\"Percentage_of_Allotment\",\n",
    "round((col(\"Total_Quantity_Ordered\") / total_quantity) * 100, 2)) \\\n",
    " .orderBy(\"Total_Quantity_Ordered\", ascending=False)\n",
    "top_selling_quantities.display()"
   ]
  },
  {
   "cell_type": "markdown",
   "metadata": {
    "application/vnd.databricks.v1+cell": {
     "cellMetadata": {
      "byteLimit": 2048000,
      "rowLimit": 10000
     },
     "inputWidgets": {},
     "nuid": "2c025da6-8dab-4356-9e7f-2f111d9b7f9f",
     "showTitle": false,
     "tableResultSettingsMap": {},
     "title": ""
    }
   },
   "source": [
    "**Most Orders By Customer**"
   ]
  },
  {
   "cell_type": "code",
   "execution_count": 0,
   "metadata": {
    "application/vnd.databricks.v1+cell": {
     "cellMetadata": {
      "byteLimit": 2048000,
      "rowLimit": 10000
     },
     "inputWidgets": {},
     "nuid": "ce7d0b1d-6913-430a-ab47-cb32c536f80c",
     "showTitle": false,
     "tableResultSettingsMap": {},
     "title": ""
    }
   },
   "outputs": [],
   "source": [
    "most_orders_by_customer = df_orders.join(df_cust,\n",
    "\"Customer_ID\").groupBy(\"Customer_ID\", \"Customer_Location\").agg(\n",
    " count(\"Order_ID\").alias(\"Total_orders\")\n",
    ").orderBy(\"Total_orders\", ascending=False)\n",
    "most_orders_by_customer.display()\n"
   ]
  },
  {
   "cell_type": "markdown",
   "metadata": {
    "application/vnd.databricks.v1+cell": {
     "cellMetadata": {
      "byteLimit": 2048000,
      "rowLimit": 10000
     },
     "inputWidgets": {},
     "nuid": "f1c451d2-5bff-4d04-8d46-7f12655d2a40",
     "showTitle": false,
     "tableResultSettingsMap": {},
     "title": ""
    }
   },
   "source": [
    "**Warehouse wise Top-Orders**"
   ]
  },
  {
   "cell_type": "code",
   "execution_count": 0,
   "metadata": {
    "application/vnd.databricks.v1+cell": {
     "cellMetadata": {
      "byteLimit": 2048000,
      "rowLimit": 10000
     },
     "inputWidgets": {},
     "nuid": "648beb3a-e60b-4f79-9ab3-10fac45bf15f",
     "showTitle": false,
     "tableResultSettingsMap": {},
     "title": ""
    }
   },
   "outputs": [],
   "source": [
    "warehouse_wise_top_orders = df_orders.join(df_warehouse,\n",
    "\"Warehouse_ID\") \\\n",
    " .groupBy(\"Warehouse_ID\", \"Warehouse_Location\") \\\n",
    " .agg(count(\"Order_ID\").alias(\"Total_Orders\")) \\\n",
    " .orderBy(\"Total_Orders\", ascending=False)\n",
    "warehouse_wise_top_orders.display()"
   ]
  },
  {
   "cell_type": "markdown",
   "metadata": {
    "application/vnd.databricks.v1+cell": {
     "cellMetadata": {},
     "inputWidgets": {},
     "nuid": "c62dbccb-571d-4ce4-97be-07d723fd9a71",
     "showTitle": false,
     "tableResultSettingsMap": {},
     "title": ""
    }
   },
   "source": [
    "**Customer Location vs Order Volume**"
   ]
  },
  {
   "cell_type": "code",
   "execution_count": 0,
   "metadata": {
    "application/vnd.databricks.v1+cell": {
     "cellMetadata": {
      "byteLimit": 2048000,
      "rowLimit": 10000
     },
     "inputWidgets": {},
     "nuid": "b4432128-7b7e-42c0-a9d6-37dc2f411db7",
     "showTitle": false,
     "tableResultSettingsMap": {},
     "title": ""
    }
   },
   "outputs": [],
   "source": [
    "%python\n",
    "Cust_behavior = df_cust.join(df_orders, \"Customer_ID\") \\\n",
    "    .join(df_products, \"Product_ID\") \\\n",
    "    .groupBy(\"Customer_Location\", \"Product_Name\") \\\n",
    "    .agg(sum(\"Quantity_Ordered\").alias(\"Total_Quantity_Ordered\")) \\\n",
    "    .orderBy(\"Total_Quantity_Ordered\", ascending=False)\n",
    "\n",
    "display(Cust_behavior)"
   ]
  },
  {
   "cell_type": "markdown",
   "metadata": {
    "application/vnd.databricks.v1+cell": {
     "cellMetadata": {},
     "inputWidgets": {},
     "nuid": "125c05ff-84c4-44ab-a599-10b07316d051",
     "showTitle": false,
     "tableResultSettingsMap": {},
     "title": ""
    }
   },
   "source": [
    "**Customer Order Frequency**"
   ]
  },
  {
   "cell_type": "code",
   "execution_count": 0,
   "metadata": {
    "application/vnd.databricks.v1+cell": {
     "cellMetadata": {
      "byteLimit": 2048000,
      "rowLimit": 10000
     },
     "inputWidgets": {},
     "nuid": "53d15b3b-bd06-4b5e-af5c-15c8caa84e2a",
     "showTitle": false,
     "tableResultSettingsMap": {},
     "title": ""
    }
   },
   "outputs": [],
   "source": [
    "from pyspark.sql.functions import countDistinct\n",
    "df_customer_order_frequency = df_orders.join(df_cust,\n",
    "\"Customer_ID\").groupBy(\n",
    " \"Customer_ID\", \"Customer_Location\"\n",
    ").agg(\n",
    " countDistinct(\"Order_Date\").alias(\"Order_Frequency\")\n",
    ").orderBy( \"Order_Frequency\", ascending=False)\n",
    "\n",
    "df_customer_order_frequency.display()"
   ]
  },
  {
   "cell_type": "markdown",
   "metadata": {
    "application/vnd.databricks.v1+cell": {
     "cellMetadata": {},
     "inputWidgets": {},
     "nuid": "da59c49f-f123-43b9-8d83-4528f4f62052",
     "showTitle": false,
     "tableResultSettingsMap": {},
     "title": ""
    }
   },
   "source": [
    "**Average delivery time by Warehouse**"
   ]
  },
  {
   "cell_type": "code",
   "execution_count": 0,
   "metadata": {
    "application/vnd.databricks.v1+cell": {
     "cellMetadata": {},
     "inputWidgets": {},
     "nuid": "224fe508-dc47-4284-941b-a18d0b8be3fe",
     "showTitle": false,
     "tableResultSettingsMap": {},
     "title": ""
    }
   },
   "outputs": [],
   "source": []
  }
 ],
 "metadata": {
  "application/vnd.databricks.v1+notebook": {
   "computePreferences": null,
   "dashboards": [],
   "environmentMetadata": {
    "base_environment": "",
    "environment_version": "2"
   },
   "language": "python",
   "notebookMetadata": {
    "mostRecentlyExecutedCommandWithImplicitDF": {
     "commandId": 7017595760649739,
     "dataframes": [
      "_sqldf"
     ]
    },
    "pythonIndentUnit": 4
   },
   "notebookName": "SCM (Gold)",
   "widgets": {}
  },
  "language_info": {
   "name": "python"
  }
 },
 "nbformat": 4,
 "nbformat_minor": 0
}
